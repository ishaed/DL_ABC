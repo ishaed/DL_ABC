{
  "nbformat": 4,
  "nbformat_minor": 0,
  "metadata": {
    "colab": {
      "provenance": [],
      "gpuType": "T4",
      "authorship_tag": "ABX9TyM9KNmHeqNXqkhcWezooSsJ",
      "include_colab_link": true
    },
    "kernelspec": {
      "name": "python3",
      "display_name": "Python 3"
    },
    "language_info": {
      "name": "python"
    },
    "accelerator": "GPU"
  },
  "cells": [
    {
      "cell_type": "markdown",
      "metadata": {
        "id": "view-in-github",
        "colab_type": "text"
      },
      "source": [
        "<a href=\"https://colab.research.google.com/github/ishaed/DL_ABC/blob/master/uta_example.ipynb\" target=\"_parent\"><img src=\"https://colab.research.google.com/assets/colab-badge.svg\" alt=\"Open In Colab\"/></a>"
      ]
    },
    {
      "cell_type": "code",
      "execution_count": 9,
      "metadata": {
        "id": "7F1lFwWuCI_l"
      },
      "outputs": [],
      "source": [
        "import math\n",
        "\n",
        "def simpleFunction(x):\n",
        "\tval=x*(x-1)*(x+1)\n",
        "\treturn val"
      ]
    },
    {
      "cell_type": "code",
      "source": [
        "import numpy as np\n",
        "range_x = [-2,2]\n",
        "\n",
        "X = np.linspace(range_x[0],range_x[1],10000)\n",
        "y = simpleFunction(X)"
      ],
      "metadata": {
        "id": "TVwogNEACMUz"
      },
      "execution_count": 10,
      "outputs": []
    },
    {
      "cell_type": "code",
      "source": [
        "import matplotlib.pyplot as plt\n",
        "plt.plot(X, y)"
      ],
      "metadata": {
        "colab": {
          "base_uri": "https://localhost:8080/",
          "height": 447
        },
        "id": "fe2CWS3tCvKO",
        "outputId": "dbbaf98a-0082-41fd-8dda-8ac066ec6c51"
      },
      "execution_count": 11,
      "outputs": [
        {
          "output_type": "execute_result",
          "data": {
            "text/plain": [
              "[<matplotlib.lines.Line2D at 0x7fb1355f03d0>]"
            ]
          },
          "metadata": {},
          "execution_count": 11
        },
        {
          "output_type": "display_data",
          "data": {
            "text/plain": [
              "<Figure size 640x480 with 1 Axes>"
            ],
            "image/png": "[encoded data removed]"
          },
          "metadata": {}
        }
      ]
    },
    {
      "cell_type": "code",
      "source": [
        "import numpy as np\n",
        "\n",
        "import matplotlib\n",
        "from matplotlib import pyplot as plt\n",
        "\n",
        "import torch\n",
        "print(\"INFO: pytorch version:\", torch.__version__)\n",
        "\n",
        "# loading device\n",
        "device = torch.device(\"cuda:0\" if torch.cuda.is_available() else \"cpu\")\n",
        "print(\"INFO: current device :\", device)"
      ],
      "metadata": {
        "colab": {
          "base_uri": "https://localhost:8080/"
        },
        "id": "gmBU0OTBDK1L",
        "outputId": "8b51c455-e3e1-4f85-f838-7c6a984ab63b"
      },
      "execution_count": 12,
      "outputs": [
        {
          "output_type": "stream",
          "name": "stdout",
          "text": [
            "INFO: pytorch version: 2.0.1+cu118\n",
            "INFO: current device : cuda:0\n"
          ]
        }
      ]
    },
    {
      "cell_type": "code",
      "source": [
        "from torch.utils.data import TensorDataset\n",
        "from torch.utils.data import DataLoader\n",
        "\n",
        "x_train = torch.tensor(X, device=device, dtype=torch.float32)\n",
        "y_train = torch.tensor(y, device=device, dtype=torch.float32)\n",
        "\n",
        "dataset = TensorDataset(x_train.unsqueeze(1), y_train.unsqueeze(1))\n",
        "\n",
        "mini_batch=1000\n",
        "\n",
        "dataloader = DataLoader(dataset, batch_size=mini_batch, shuffle=True)\n"
      ],
      "metadata": {
        "id": "m3OQ9s9rGt9t"
      },
      "execution_count": 13,
      "outputs": []
    },
    {
      "cell_type": "code",
      "source": [
        "model_mlp = torch.nn.Sequential(\n",
        "    torch.nn.Linear(1, 6),\n",
        "    torch.nn.ReLU(),\n",
        "    torch.nn.Linear(6, 3),\n",
        "    torch.nn.ReLU(),\n",
        "    torch.nn.Linear(3, 2),\n",
        "    torch.nn.ReLU(),\n",
        "    torch.nn.Linear(2, 1),\n",
        ").to(device)\n",
        "\n",
        "def mse_loss(x, y):\n",
        "    square_error = (model_mlp(x) - y)**2\n",
        "    return square_error.mean()\n",
        "\n",
        "optimizer = torch.optim.Adam(\n",
        "    model_mlp.parameters(),\n",
        "    lr=0.001\n",
        ")"
      ],
      "metadata": {
        "id": "CIWxsC-5G3jm"
      },
      "execution_count": 14,
      "outputs": []
    },
    {
      "cell_type": "code",
      "source": [
        "nb_epochs = 1000\n",
        "\n",
        "# best loss value\n",
        "loss_best = np.inf\n",
        "\n",
        "path_temp = \"saved_wgt\"\n",
        "\n",
        "for epoch in range(nb_epochs + 1):\n",
        "    for batch_idx, samples in enumerate(dataloader):\n",
        "        X_train, Y_train = samples\n",
        "\n",
        "        # cost 계산\n",
        "        cost = mse_loss(X_train, Y_train)\n",
        "\n",
        "        # backpropagation 계산\n",
        "        optimizer.zero_grad()\n",
        "        cost.backward()\n",
        "        optimizer.step()\n",
        "        if loss_best > cost:\n",
        "          loss_best = cost\n",
        "          torch.save(model_mlp.state_dict(), path_temp)\n",
        "\n",
        "    if (epoch %100 ==0): print('- Epoch {:1d}, Cost: {:.6f}'.format(epoch, loss_best.item()))"
      ],
      "metadata": {
        "colab": {
          "base_uri": "https://localhost:8080/"
        },
        "id": "KzrTqAplM_WB",
        "outputId": "eb77aaec-6e42-4fc7-fdd9-3f0c5ff6b659"
      },
      "execution_count": 15,
      "outputs": [
        {
          "output_type": "stream",
          "name": "stdout",
          "text": [
            "- Epoch 0, Cost: 3.732225\n",
            "- Epoch 100, Cost: 0.850905\n",
            "- Epoch 200, Cost: 0.393560\n",
            "- Epoch 300, Cost: 0.192103\n",
            "- Epoch 400, Cost: 0.097618\n",
            "- Epoch 500, Cost: 0.046950\n",
            "- Epoch 600, Cost: 0.021185\n",
            "- Epoch 700, Cost: 0.008639\n",
            "- Epoch 800, Cost: 0.003625\n",
            "- Epoch 900, Cost: 0.002332\n",
            "- Epoch 1000, Cost: 0.001948\n"
          ]
        }
      ]
    },
    {
      "cell_type": "code",
      "source": [
        "tensor_x_test = torch.linspace(-4.,4.,100,device=device)[:,None]\n",
        "arr_y_predict = model_mlp(tensor_x_test).detach().cpu().numpy()[:,0]\n",
        "\n",
        "plt.plot(\n",
        "    X,\n",
        "    y,\n",
        "    label=\"true\",\n",
        "    color=\"yellow\"\n",
        ")\n",
        "plt.plot(\n",
        "    #arr_x,\n",
        "    tensor_x_test.detach().cpu().numpy(),\n",
        "    arr_y_predict,\n",
        "    \"--\",\n",
        "    label=\"prediction\",\n",
        "    color=\"red\",\n",
        ")\n",
        "plt.gca().legend(fontsize=15)\n",
        "plt.gca().set_xlabel(\"$x$\", fontsize=15)\n",
        "plt.gca().set_ylabel(\"$y$\", fontsize=15)\n",
        "plt.gca().set_xlim([-2,2])\n",
        "plt.gca().set_ylim([-6,6])"
      ],
      "metadata": {
        "colab": {
          "base_uri": "https://localhost:8080/",
          "height": 478
        },
        "id": "DPccSwvEH1od",
        "outputId": "bfe2a972-bad5-4937-e0e9-298135975441"
      },
      "execution_count": 16,
      "outputs": [
        {
          "output_type": "execute_result",
          "data": {
            "text/plain": [
              "(-6.0, 6.0)"
            ]
          },
          "metadata": {},
          "execution_count": 16
        },
        {
          "output_type": "display_data",
          "data": {
            "text/plain": [
              "<Figure size 640x480 with 1 Axes>"
            ],
            "image/png": "[encoded data removed]"
          },
          "metadata": {}
        }
      ]
    },
    {
      "cell_type": "code",
      "source": [],
      "metadata": {
        "id": "Ln5hRqOrH-CC"
      },
      "execution_count": null,
      "outputs": []
    }
  ]
}