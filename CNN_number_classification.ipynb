{
 "cells": [
  {
   "cell_type": "markdown",
   "metadata": {},
   "source": [
    "## http://yann.lecun.com/exdb/mnist/ 에서 손글씨 데이터 추출하기"
   ]
  },
  {
   "cell_type": "code",
   "execution_count": null,
   "metadata": {},
   "outputs": [],
   "source": [
    "import os\n",
    "\n",
    "os.environ[\"CUDA_VISIBLE_DEVICES\"]='0' \n"
   ]
  },
  {
   "cell_type": "code",
   "execution_count": null,
   "metadata": {},
   "outputs": [],
   "source": [
    "from keras.datasets import mnist\n",
    "\n",
    "(train_images, train_labels), (test_images, test_labels) = mnist.load_data()\n",
    "\n",
    "print(train_images.shape,train_labels.shape)\n",
    "print(test_images.shape,test_labels.shape)"
   ]
  },
  {
   "cell_type": "markdown",
   "metadata": {},
   "source": [
    "## 데이터를 학습에 맞도록 크기를 변환\n",
    "- 1. 각 픽셀의 크기를 $0\\le f \\le 255$ 에서 $0\\le f \\le 1$로 크기를 조정해 준다.\n",
    "- 2. label을 one-hot encoding 을 시켜준다. (해당값을 1로, 그 나머지를 0으로 변환)"
   ]
  },
  {
   "cell_type": "code",
   "execution_count": null,
   "metadata": {},
   "outputs": [],
   "source": [
    "from keras.utils import to_categorical\n",
    " \n",
    "train_images=train_images.astype('float32')/255\n",
    "test_images=test_images.astype('float32')/255\n",
    "\n",
    "train_labels = to_categorical(train_labels)\n",
    "test_labels = to_categorical(test_labels)"
   ]
  },
  {
   "cell_type": "markdown",
   "metadata": {},
   "source": [
    "## Q3 : CNN의 초기 버전인 LeNet 을 구현하여 학습시켜라. \n",
    "- 이 문제를 풀 경우 extra credit 을 부여\n",
    "- 학생들은 Tensorflow, Keras, Pytouch 등 본인이 원하는 framework을 사용할 수 있다. \n",
    "\n",
    " ![nn](picture.png)"
   ]
  },
  {
   "cell_type": "code",
   "execution_count": null,
   "metadata": {},
   "outputs": [],
   "source": [
    "from keras import models\n",
    "from keras import layers\n",
    "\n",
    "train_images=train_images.reshape((60000,28,28,1)) # 마지막 열은 Channel의 갯수, 흑백이므로 channel = 1\n",
    "test_images=test_images.reshape((10000,28,28,1)) # 마지막 열은 Channel의 갯수, 흑백이므로 channel = 1\n",
    "\n",
    "model=models.Sequential()\n",
    "\n",
    "model.add(layers.Conv2D(filters = 6, kernel_size=(5, 5),  padding = \"same\", activation='relu', input_shape=(28, 28, 1)))\n",
    "model.add(layers.AveragePooling2D(pool_size=(2, 2)))\n",
    "\n",
    "model.add(layers.Conv2D(16, kernel_size=(5, 5), activation='relu'))\n",
    "model.add(layers.AveragePooling2D(pool_size=(2, 2)))\n",
    "\n",
    "model.add(layers.Conv2D(120, kernel_size=(5, 5), activation='relu'))\n",
    "model.add(layers.Flatten())\n",
    "model.add(layers.Dense(84, activation='relu'))\n",
    "\n",
    "model.add(layers.Dense(10, activation='softmax'))\n",
    "\n",
    "model.summary()"
   ]
  },
  {
   "cell_type": "code",
   "execution_count": null,
   "metadata": {},
   "outputs": [],
   "source": [
    "model.compile(optimizer='adam',loss='categorical_crossentropy',metrics=['accuracy'])\n",
    "\n",
    "history= model.fit(train_images,train_labels,epochs=20, batch_size=100, verbose=2,validation_data=(test_images, test_labels))"
   ]
  },
  {
   "cell_type": "code",
   "execution_count": null,
   "metadata": {},
   "outputs": [],
   "source": [
    "test_loss, test_acc = model.evaluate(test_images, test_labels)\n",
    "\n",
    "print('test accuracy=',test_acc)"
   ]
  },
  {
   "cell_type": "code",
   "execution_count": null,
   "metadata": {},
   "outputs": [],
   "source": [
    "import matplotlib.pyplot as plt\n",
    "\n",
    "\n",
    "history_dict= history.history\n",
    "\n",
    "loss = history_dict['loss']\n",
    "val_loss = history_dict['val_loss']\n",
    "\n",
    "accuracy = history_dict['accuracy']\n",
    "val_accuracy = history_dict['val_accuracy']\n",
    "\n",
    "epochs = range(1, len(loss)+1)\n",
    "\n",
    "plt.figure(figsize=(10, 4))\n",
    "\n",
    "plt.subplot(121)\n",
    "\n",
    "\n",
    "plt.plot(epochs, loss, 'bo',label='training loss')\n",
    "plt.plot(epochs, val_loss, 'b', label='test loss')\n",
    "plt.xlabel('Epochs')\n",
    "plt.ylabel('Loss') \n",
    "plt.legend()\n",
    "\n",
    "plt.subplot(122)\n",
    "\n",
    "\n",
    "plt.plot(epochs, accuracy, 'bo',label='training accuracy')\n",
    "plt.plot(epochs, val_accuracy, 'b', label='test accuracy')\n",
    "plt.xlabel('Epochs')\n",
    "plt.ylabel('Accuracy')\n",
    "plt.ylim((0.9,1.02)) \n",
    "plt.legend()\n",
    "\n",
    "plt.tight_layout()\n",
    "plt.show()"
   ]
  },
  {
   "cell_type": "markdown",
   "metadata": {},
   "source": [
    "## 생성된 네트워크 모델을 저장하기 "
   ]
  },
  {
   "cell_type": "code",
   "execution_count": null,
   "metadata": {},
   "outputs": [],
   "source": [
    "from keras.models import load_model\n",
    "\n",
    "model.save('mnist_CNN.h5')"
   ]
  },
  {
   "cell_type": "code",
   "execution_count": null,
   "metadata": {},
   "outputs": [],
   "source": [
    "from keras.models import load_model\n",
    "\n",
    "model_CNN = load_model('mnist_CNN.h5')"
   ]
  },
  {
   "cell_type": "code",
   "execution_count": null,
   "metadata": {},
   "outputs": [],
   "source": [
    "pred_out = model_CNN.predict(test_images)"
   ]
  },
  {
   "cell_type": "code",
   "execution_count": null,
   "metadata": {},
   "outputs": [],
   "source": [
    "pred_out.shape"
   ]
  },
  {
   "cell_type": "code",
   "execution_count": null,
   "metadata": {},
   "outputs": [],
   "source": [
    "from numpy import argmax\n",
    "\n",
    "for i in range(5):\n",
    "    print('True : ' + str(argmax(test_labels[i])) + ', Predict : ' + str(argmax(pred_out[i])))"
   ]
  }
 ],
 "metadata": {
  "kernelspec": {
   "display_name": "Python 3",
   "language": "python",
   "name": "python3"
  },
  "language_info": {
   "codemirror_mode": {
    "name": "ipython",
    "version": 3
   },
   "file_extension": ".py",
   "mimetype": "text/x-python",
   "name": "python",
   "nbconvert_exporter": "python",
   "pygments_lexer": "ipython3",
   "version": "3.7.9"
  }
 },
 "nbformat": 4,
 "nbformat_minor": 4
}
